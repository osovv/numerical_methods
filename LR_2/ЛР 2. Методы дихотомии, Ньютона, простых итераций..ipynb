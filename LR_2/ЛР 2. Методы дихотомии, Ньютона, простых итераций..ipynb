{
 "cells": [
  {
   "cell_type": "code",
   "execution_count": 213,
   "metadata": {},
   "outputs": [],
   "source": [
    "import numpy as np\n",
    "import sympy as sp\n",
    "import math\n",
    "%matplotlib inline \n",
    "import matplotlib.pyplot as plt\n",
    "plt.rcParams[\"figure.figsize\"] = (15,10)\n",
    "plt.rcParams['lines.linewidth'] = 2"
   ]
  },
  {
   "cell_type": "markdown",
   "metadata": {},
   "source": [
    "$$\n",
    "f(x) = x^{3} - 3x^{2} - 9x - 5\n",
    "$$"
   ]
  },
  {
   "cell_type": "code",
   "execution_count": 132,
   "metadata": {},
   "outputs": [],
   "source": [
    "def f(x: float) -> float:\n",
    "    return x**3 -3*x**2-9*x-5\n",
    "x = np.linspace(-10, 10, num=150)\n",
    "y = np.fromiter(map(f, x), float)"
   ]
  },
  {
   "cell_type": "code",
   "execution_count": 133,
   "metadata": {},
   "outputs": [
    {
     "name": "stdout",
     "output_type": "stream",
     "text": [
      "10.0\n"
     ]
    }
   ],
   "source": [
    "def xp(a: list[float]) -> float:\n",
    "    n = len(a) - 1\n",
    "    return 1 + 1 / abs(a[n])  * max(*map(abs, a[:n]))\n",
    "\n",
    "print(xp([-5, -9, -3, 1]))"
   ]
  },
  {
   "cell_type": "markdown",
   "metadata": {},
   "source": [
    "$$\n",
    "x_{p} \\leq 10.0\n",
    "$$"
   ]
  },
  {
   "cell_type": "code",
   "execution_count": 134,
   "metadata": {},
   "outputs": [
    {
     "data": {
      "text/plain": [
       "[<matplotlib.lines.Line2D at 0x7f8429a72820>]"
      ]
     },
     "execution_count": 134,
     "metadata": {},
     "output_type": "execute_result"
    },
    {
     "data": {
      "image/png": "[encoded data removed]",
      "text/plain": [
       "<Figure size 1080x720 with 1 Axes>"
      ]
     },
     "metadata": {
      "needs_background": "light"
     },
     "output_type": "display_data"
    }
   ],
   "source": [
    "fig = plt.figure()\n",
    "ax = fig.add_subplot(1,1,1)\n",
    "ax.spines['left'].set_position('zero')\n",
    "ax.spines['bottom'].set_position('zero')\n",
    "ax.spines['right'].set_color('none')\n",
    "ax.spines['top'].set_color('none')\n",
    "ax.xaxis.set_ticks_position('bottom')\n",
    "ax.yaxis.set_ticks_position('left')\n",
    "ax.grid()\n",
    "ax.plot(x,y)"
   ]
  },
  {
   "cell_type": "markdown",
   "metadata": {},
   "source": [
    "$$\n",
    "x_{1} \\in [-2.5, 0]\n",
    "$$\n",
    "$$\n",
    "x_{2} \\in [2.5, 5.0]\n",
    "$$"
   ]
  },
  {
   "cell_type": "code",
   "execution_count": 135,
   "metadata": {},
   "outputs": [
    {
     "name": "stdout",
     "output_type": "stream",
     "text": [
      "[(-1+0j), (-1-0j), (5+0j)]\n"
     ]
    }
   ],
   "source": [
    "p = np.array([1, -3, -9, -5])\n",
    "roots = np.roots(p)\n",
    "\n",
    "print(sorted([*map(np.round, roots)]))"
   ]
  },
  {
   "cell_type": "markdown",
   "metadata": {},
   "source": [
    "$$\n",
    "x_{1, 2} = -1\n",
    "$$\n",
    "$$\n",
    "x_{3} = 5\n",
    "$$"
   ]
  },
  {
   "cell_type": "code",
   "execution_count": 136,
   "metadata": {},
   "outputs": [
    {
     "name": "stdout",
     "output_type": "stream",
     "text": [
      "5.0 50\n"
     ]
    }
   ],
   "source": [
    "def bisection_method(f, xl: float, xr: float, epsilon: float, max_iter: int) -> tuple[float, int]:\n",
    "    for n in range(0, max_iter):\n",
    "        xd = xr - xl\n",
    "        xd = xd / 2\n",
    "        xm = xl + xd\n",
    "        if abs(f(xm)) <= epsilon:\n",
    "            return xm, n + 1\n",
    "        else:\n",
    "            if np.sign(f(xl)) != np.sign(f(xm)):\n",
    "                xr = xm\n",
    "            else:\n",
    "                xl = xm\n",
    "    return None, max_iter\n",
    "                       \n",
    "x_3, N = bisection_method(f, 4.0, 5.5, 1e-16, 500)\n",
    "print(x_3, N)"
   ]
  },
  {
   "cell_type": "markdown",
   "metadata": {},
   "source": [
    "### Метод бисекции\n",
    "$$\n",
    "x_{L} = 4.0 \\ \\ \\ x_{R} = 5.5\n",
    "$$\n",
    "$$\n",
    "x_{3} = 5 \\ \\ \\ (\\varepsilon = 10^{-16})\n",
    "$$\n",
    "$$\n",
    "N = 50 \\ \\ (\\text{кол-во итераций})\n",
    "$$"
   ]
  },
  {
   "cell_type": "code",
   "execution_count": 137,
   "metadata": {},
   "outputs": [
    {
     "name": "stdout",
     "output_type": "stream",
     "text": [
      "-1.000003663214419 20\n",
      "5.0 6\n"
     ]
    }
   ],
   "source": [
    "def newton_method(f, Df, x0: float, epsilon: float, max_iter: int) -> tuple[float, int]:\n",
    "    N = 0\n",
    "    xn = x0\n",
    "    for n in range(0,max_iter):\n",
    "        fxn = f(xn)\n",
    "        if abs(fxn) < epsilon:\n",
    "            return xn, n + 1\n",
    "        Dfxn = Df(xn)\n",
    "        if Dfxn == 0:\n",
    "            return None, n + 1\n",
    "        xn = xn - fxn/Dfxn\n",
    "    return None, max_iter\n",
    "\n",
    "def newton_method_modified(f, x0: float, epsilon: float, max_iter: int) -> tuple[float, int]:\n",
    "    N = 0\n",
    "    xn = x0\n",
    "    dx = epsilon\n",
    "    for n in range(0,max_iter):\n",
    "        fxn = f(xn)\n",
    "        if abs(fxn) < epsilon:\n",
    "            return xn, n + 1\n",
    "        Dfxn = f(xn+dx) - f(xn)\n",
    "        if Dfxn == 0:\n",
    "            return None, n + 1\n",
    "        xn = xn - fxn*dx/Dfxn\n",
    "    return None, max_iter\n",
    "\n",
    "x = sp.Symbol('x')\n",
    "sym_f = x**3 -3*x**2-9*x-5\n",
    "sym_Df = sym_f.diff(x)\n",
    "f = lambdify(x, sym_f, 'numpy')\n",
    "Df = lambdify(x, sym_Df, 'numpy')\n",
    "\n",
    "x_1, N = newton_method_modified(f, -2.5, 1e-10, 500)\n",
    "print(x_1, N)\n",
    "\n",
    "x_3, N = newton_method(f, Df, 5.5, 1e-16, 500)\n",
    "print(x_3, N)"
   ]
  },
  {
   "cell_type": "markdown",
   "metadata": {},
   "source": [
    "### Метод Ньютона модифицированный\n",
    "$$\n",
    "x_{0} = -1.5\n",
    "$$\n",
    "$$\n",
    "x_{1, 2} = -1 \\ \\ \\ (\\varepsilon = 10^{-10})\n",
    "$$\n",
    "$$\n",
    "N = 14 \\ \\ (\\text{кол-во итераций})\n",
    "$$\n",
    "При большей точности метод не работает, т.к. знаменатель становится слишком маленьким (равным $0$)\n",
    "\n"
   ]
  },
  {
   "cell_type": "markdown",
   "metadata": {},
   "source": [
    "### Метод Ньютона\n",
    "$$\n",
    "x_{0} = 5.5\n",
    "$$\n",
    "$$\n",
    "x_{3} = 5 \\ \\ \\ (\\varepsilon = 10^{-16})\n",
    "$$\n",
    "$$\n",
    "N = 6 \\ \\ (\\text{кол-во итераций})\n",
    "$$"
   ]
  },
  {
   "cell_type": "code",
   "execution_count": 185,
   "metadata": {},
   "outputs": [
    {
     "name": "stdout",
     "output_type": "stream",
     "text": [
      "4.0 7\n"
     ]
    }
   ],
   "source": [
    "def my_sqrt(phi, a: float,  x0: float, epsilon: float, max_iter: int) -> float:\n",
    "    xn = x0\n",
    "    for n in range(0, max_iter):\n",
    "        if abs(xn ** 2 - a) < epsilon:\n",
    "            return xn, n + 1\n",
    "        xn = phi(xn)        \n",
    "    return None, max_iter\n",
    "\n",
    "a = 16\n",
    "phi = lambda x: 1/ 2 * (a / x + x)\n",
    "x, N = my_sqrt(phi, a, 1.5, 1e-16, 500)\n",
    "print(x, N)"
   ]
  },
  {
   "cell_type": "markdown",
   "metadata": {},
   "source": [
    "### Метод простой итерации для нахождения квадратного корня\n",
    "$$\n",
    "\\varphi(x) = \\frac{1}{2} (\\frac{a}{x} + {x})\n",
    "$$\n",
    "\n",
    "$$\n",
    "a = 16\n",
    "$$\n",
    "\n",
    "$$\n",
    "x_{0} = 1.5\n",
    "$$\n",
    "$$\n",
    "x = 4.0 \\ \\ \\ (\\varepsilon = 10^{-16})\n",
    "$$\n",
    "$$\n",
    "N = 7 \\ \\ (\\text{кол-во итераций})\n",
    "$$"
   ]
  },
  {
   "cell_type": "code",
   "execution_count": 196,
   "metadata": {},
   "outputs": [
    {
     "name": "stdout",
     "output_type": "stream",
     "text": [
      "-1 0\n"
     ]
    }
   ],
   "source": [
    "def estimate_area_of_convergence(sym_f):\n",
    "    sym_Df = sym_f.diff(x)\n",
    "    f = lambdify(x, sym_f, 'numpy')\n",
    "    Df = lambdify(x, sym_Df, 'numpy')\n",
    "    x1 = sp.solveset(sp.Eq(sym_Df, -1), 'x')\n",
    "    x2 = sp.solveset(sp.Eq(sym_Df, 1), 'x')\n",
    "    return sorted([*x1, *x2])\n",
    "     \n",
    "a = 16\n",
    "x = sp.Symbol('x')\n",
    "sym_f = x**2 + x - a\n",
    "x1, x2 = estimate_area_of_convergence(sym_f)\n",
    "print(x1, x2)"
   ]
  },
  {
   "cell_type": "markdown",
   "metadata": {},
   "source": [
    "### Оценка сходимости представления\n",
    "$$\n",
    "a = 16\n",
    "$$\n",
    "$$\n",
    "\\varphi(x) = x^{2} + x - a\n",
    "$$\n",
    "$$\n",
    "x \\in [-1, 0] - \\text{область сходимости}\n",
    "$$\n",
    "Т.к. это представление квадратного корня из $a$ , $a$ должно лежать в отрезке $[0, 1]$"
   ]
  },
  {
   "cell_type": "code",
   "execution_count": 211,
   "metadata": {},
   "outputs": [
    {
     "name": "stdout",
     "output_type": "stream",
     "text": [
      "-0.7071067811865479 41\n"
     ]
    }
   ],
   "source": [
    "a = 0.5\n",
    "phi = lambda x: x**2 + x - a\n",
    "x, N = my_sqrt(phi, a, 0.5, 1e-15, 5000)\n",
    "print(x, N)"
   ]
  },
  {
   "cell_type": "markdown",
   "metadata": {},
   "source": [
    "### В области сходимости всё нормально считается.\n",
    "$$\n",
    "a = 0.5\n",
    "$$\n",
    "\n",
    "$$\n",
    "\\varphi(x) = x^{2} + x - a\n",
    "$$\n",
    "\n",
    "$$\n",
    "x \\in [-1, 0] - \\text{область сходимости}\n",
    "$$\n",
    "\n",
    "$$\n",
    "x_{0} = 0.5\n",
    "$$\n",
    "\n",
    "$$\n",
    "x = -0.7071067811865479 \\ \\ \\ (\\varepsilon = 10^{-15}) - \\text{при}\\ \\varepsilon = 10^{-16}\\  \\text{ не считает даже при 5000 итераций}\n",
    "$$\n",
    "\n",
    "$$\n",
    "N = 41 \\ \\ (\\text{кол-во итераций})\n",
    "$$"
   ]
  },
  {
   "cell_type": "code",
   "execution_count": 212,
   "metadata": {},
   "outputs": [
    {
     "ename": "OverflowError",
     "evalue": "(34, 'Numerical result out of range')",
     "output_type": "error",
     "traceback": [
      "\u001b[0;31m---------------------------------------------------------------------------\u001b[0m",
      "\u001b[0;31mOverflowError\u001b[0m                             Traceback (most recent call last)",
      "\u001b[0;32m<ipython-input-212-5b3c388ccf02>\u001b[0m in \u001b[0;36m<module>\u001b[0;34m\u001b[0m\n\u001b[1;32m      1\u001b[0m \u001b[0ma\u001b[0m \u001b[0;34m=\u001b[0m \u001b[0;36m0.5\u001b[0m\u001b[0;34m\u001b[0m\u001b[0;34m\u001b[0m\u001b[0m\n\u001b[1;32m      2\u001b[0m \u001b[0mphi\u001b[0m \u001b[0;34m=\u001b[0m \u001b[0;32mlambda\u001b[0m \u001b[0mx\u001b[0m\u001b[0;34m:\u001b[0m \u001b[0mx\u001b[0m\u001b[0;34m**\u001b[0m\u001b[0;36m2\u001b[0m \u001b[0;34m+\u001b[0m \u001b[0mx\u001b[0m \u001b[0;34m-\u001b[0m \u001b[0ma\u001b[0m\u001b[0;34m\u001b[0m\u001b[0;34m\u001b[0m\u001b[0m\n\u001b[0;32m----> 3\u001b[0;31m \u001b[0mx\u001b[0m\u001b[0;34m,\u001b[0m \u001b[0mN\u001b[0m \u001b[0;34m=\u001b[0m \u001b[0mmy_sqrt\u001b[0m\u001b[0;34m(\u001b[0m\u001b[0mphi\u001b[0m\u001b[0;34m,\u001b[0m \u001b[0ma\u001b[0m\u001b[0;34m,\u001b[0m \u001b[0;36m10\u001b[0m\u001b[0;34m,\u001b[0m \u001b[0;36m1e-16\u001b[0m\u001b[0;34m,\u001b[0m \u001b[0;36m100\u001b[0m\u001b[0;34m)\u001b[0m\u001b[0;34m\u001b[0m\u001b[0;34m\u001b[0m\u001b[0m\n\u001b[0m\u001b[1;32m      4\u001b[0m \u001b[0mprint\u001b[0m\u001b[0;34m(\u001b[0m\u001b[0mx\u001b[0m\u001b[0;34m,\u001b[0m \u001b[0mN\u001b[0m\u001b[0;34m)\u001b[0m\u001b[0;34m\u001b[0m\u001b[0;34m\u001b[0m\u001b[0m\n",
      "\u001b[0;32m<ipython-input-185-57a3e808c9cd>\u001b[0m in \u001b[0;36mmy_sqrt\u001b[0;34m(phi, a, x0, epsilon, max_iter)\u001b[0m\n\u001b[1;32m      2\u001b[0m     \u001b[0mxn\u001b[0m \u001b[0;34m=\u001b[0m \u001b[0mx0\u001b[0m\u001b[0;34m\u001b[0m\u001b[0;34m\u001b[0m\u001b[0m\n\u001b[1;32m      3\u001b[0m     \u001b[0;32mfor\u001b[0m \u001b[0mn\u001b[0m \u001b[0;32min\u001b[0m \u001b[0mrange\u001b[0m\u001b[0;34m(\u001b[0m\u001b[0;36m0\u001b[0m\u001b[0;34m,\u001b[0m \u001b[0mmax_iter\u001b[0m\u001b[0;34m)\u001b[0m\u001b[0;34m:\u001b[0m\u001b[0;34m\u001b[0m\u001b[0;34m\u001b[0m\u001b[0m\n\u001b[0;32m----> 4\u001b[0;31m         \u001b[0;32mif\u001b[0m \u001b[0mabs\u001b[0m\u001b[0;34m(\u001b[0m\u001b[0mxn\u001b[0m \u001b[0;34m**\u001b[0m \u001b[0;36m2\u001b[0m \u001b[0;34m-\u001b[0m \u001b[0ma\u001b[0m\u001b[0;34m)\u001b[0m \u001b[0;34m<\u001b[0m \u001b[0mepsilon\u001b[0m\u001b[0;34m:\u001b[0m\u001b[0;34m\u001b[0m\u001b[0;34m\u001b[0m\u001b[0m\n\u001b[0m\u001b[1;32m      5\u001b[0m             \u001b[0;32mreturn\u001b[0m \u001b[0mxn\u001b[0m\u001b[0;34m,\u001b[0m \u001b[0mn\u001b[0m \u001b[0;34m+\u001b[0m \u001b[0;36m1\u001b[0m\u001b[0;34m\u001b[0m\u001b[0;34m\u001b[0m\u001b[0m\n\u001b[1;32m      6\u001b[0m         \u001b[0mxn\u001b[0m \u001b[0;34m=\u001b[0m \u001b[0mphi\u001b[0m\u001b[0;34m(\u001b[0m\u001b[0mxn\u001b[0m\u001b[0;34m)\u001b[0m\u001b[0;34m\u001b[0m\u001b[0;34m\u001b[0m\u001b[0m\n",
      "\u001b[0;31mOverflowError\u001b[0m: (34, 'Numerical result out of range')"
     ]
    }
   ],
   "source": [
    "a = 0.5\n",
    "phi = lambda x: x**2 + x - a\n",
    "x, N = my_sqrt(phi, a, 10, 1e-16, 100)\n",
    "print(x, N)"
   ]
  },
  {
   "cell_type": "markdown",
   "metadata": {},
   "source": [
    "### Вне области сходимости происходит переполнение.\n",
    "$$\n",
    "a = 0.5\n",
    "$$\n",
    "\n",
    "$$\n",
    "\\varphi(x) = x^{2} + x - a\n",
    "$$\n",
    "\n",
    "$$\n",
    "x \\in [-1, 0] - \\text{область сходимости}\n",
    "$$\n",
    "\n",
    "$$\n",
    "x_{0} = 10\n",
    "$$\n",
    "\n",
    "$$\n",
    "x = None \\ \\ \\ \\text{Произошло переполнение}\n",
    "$$"
   ]
  },
  {
   "cell_type": "code",
   "execution_count": 223,
   "metadata": {},
   "outputs": [
    {
     "data": {
      "text/plain": [
       "[<matplotlib.lines.Line2D at 0x7f8428a1aac0>]"
      ]
     },
     "execution_count": 223,
     "metadata": {},
     "output_type": "execute_result"
    },
    {
     "data": {
      "image/png": "[encoded data removed]",
      "text/plain": [
       "<Figure size 1080x720 with 1 Axes>"
      ]
     },
     "metadata": {
      "needs_background": "light"
     },
     "output_type": "display_data"
    }
   ],
   "source": [
    "x = np.linspace(-3, 3, num=150)\n",
    "y1 = np.fromiter(map(math.sin, x), float)\n",
    "y2 = np.fromiter(map(lambda x: x / 2, x), float)\n",
    "y3 = np.fromiter(map(lambda x: math.sin(x)- x / 2, x), float)\n",
    "\n",
    "fig = plt.figure()\n",
    "ax = fig.add_subplot(1,1,1)\n",
    "ax.spines['left'].set_position('zero')\n",
    "ax.spines['bottom'].set_position('zero')\n",
    "ax.spines['right'].set_color('none')\n",
    "ax.spines['top'].set_color('none')\n",
    "ax.xaxis.set_ticks_position('bottom')\n",
    "ax.yaxis.set_ticks_position('left')\n",
    "ax.grid()\n",
    "ax.plot(x,y1)\n",
    "ax.plot(x,y2)\n",
    "ax.plot(x,y3)"
   ]
  },
  {
   "cell_type": "markdown",
   "metadata": {},
   "source": [
    "Примерные корни:\n",
    "$$\n",
    "x_{1} = -1.9\n",
    "$$\n",
    "\n",
    "$$\n",
    "x_{2} = 0\n",
    "$$\n",
    "\n",
    "$$\n",
    "x_{3} = 1.9\n",
    "$$"
   ]
  },
  {
   "cell_type": "code",
   "execution_count": 226,
   "metadata": {},
   "outputs": [
    {
     "name": "stdout",
     "output_type": "stream",
     "text": [
      "-1.895494267033981 51\n",
      "0.0 1\n",
      "1.895494267033981 51\n"
     ]
    }
   ],
   "source": [
    "x_1, N = bisection_method(lambda x: math.sin(x) - x / 2, -3, -1, 1e-16, 500)\n",
    "print(x_1, N)\n",
    "\n",
    "x_2, N = bisection_method(lambda x: math.sin(x) - x / 2, -0.5, 0.5, 1e-16, 500)\n",
    "print(x_2, N)\n",
    "\n",
    "x_3, N = bisection_method(lambda x: math.sin(x) - x / 2, 1, 3, 1e-16, 500)\n",
    "print(x_3, N)"
   ]
  },
  {
   "cell_type": "markdown",
   "metadata": {},
   "source": [
    "### Метод бисекции\n",
    "$$\n",
    "x_{L} = -3 \\ \\ \\ x_{R} = -1\n",
    "$$\n",
    "$$\n",
    "x_{1} = -1.895494267033981 \\ \\ \\ (\\varepsilon = 10^{-16})\n",
    "$$\n",
    "$$\n",
    "N = 51 \\ \\ (\\text{кол-во итераций})\n",
    "$$\n",
    "\n",
    "$$\n",
    "x_{L} = -0.5 \\ \\ \\ x_{R} = 0.5\n",
    "$$\n",
    "$$\n",
    "x_{2} = 0.0 \\ \\ \\ (\\varepsilon = 10^{-16})\n",
    "$$\n",
    "$$\n",
    "N = 50 \\ \\ (\\text{кол-во итераций})\n",
    "$$\n",
    "\n",
    "$$\n",
    "x_{L} = 1 \\ \\ \\ x_{R} = 3\n",
    "$$\n",
    "$$\n",
    "x_{3} = 1.895494267033981 \\ \\ \\ (\\varepsilon = 10^{-16})\n",
    "$$\n",
    "$$\n",
    "N = 51 \\ \\ (\\text{кол-во итераций})\n",
    "$$"
   ]
  },
  {
   "cell_type": "code",
   "execution_count": 230,
   "metadata": {},
   "outputs": [
    {
     "name": "stdout",
     "output_type": "stream",
     "text": [
      "-1.895494267033981 6\n",
      "0.0 5\n",
      "1.895494267033981 6\n"
     ]
    }
   ],
   "source": [
    "x = sp.Symbol('x')\n",
    "sym_f = sin(x) - x / 2\n",
    "sym_Df = sym_f.diff(x)\n",
    "f = lambdify(x, sym_f, 'numpy')\n",
    "Df = lambdify(x, sym_Df, 'numpy')\n",
    "\n",
    "x_1, N = newton_method(f, Df, -3, 1e-16, 500)\n",
    "print(x_1, N)\n",
    "\n",
    "x_2, N = newton_method(f, Df, 0.5, 1e-16, 500)\n",
    "print(x_2, N)\n",
    "\n",
    "x_3, N = newton_method(f, Df, 3, 1e-16, 500)\n",
    "print(x_3, N)"
   ]
  },
  {
   "cell_type": "markdown",
   "metadata": {},
   "source": [
    "### Метод Ньютона\n",
    "$$\n",
    "x_{0} = -3\n",
    "$$\n",
    "$$\n",
    "x_{1} = -1.895494267033981 \\ \\ \\ (\\varepsilon = 10^{-16})\n",
    "$$\n",
    "$$\n",
    "N = 6 \\ \\ (\\text{кол-во итераций})\n",
    "$$\n",
    "\n",
    "$$\n",
    "x_{0} = 0.5\n",
    "$$\n",
    "$$\n",
    "x_{2} = 0.0 \\ \\ \\ (\\varepsilon = 10^{-16})\n",
    "$$\n",
    "$$\n",
    "N = 5 \\ \\ (\\text{кол-во итераций})\n",
    "$$\n",
    "\n",
    "$$\n",
    "x_{0} = 3\n",
    "$$\n",
    "$$\n",
    "x_{3} = 1.895494267033981 \\ \\ \\ (\\varepsilon = 10^{-16})\n",
    "$$\n",
    "$$\n",
    "N = 6 \\ \\ (\\text{кол-во итераций})\n",
    "$$"
   ]
  },
  {
   "cell_type": "code",
   "execution_count": 241,
   "metadata": {},
   "outputs": [
    {
     "name": "stdout",
     "output_type": "stream",
     "text": [
      "-1.8954942670339798 77\n",
      "1.8954942670339798 77\n"
     ]
    }
   ],
   "source": [
    "def iteration_method(phi, f,  x0: float, epsilon: float, max_iter: int) -> float:\n",
    "    xn = x0\n",
    "    for n in range(0, max_iter):\n",
    "#         print(xn, f(xn))\n",
    "        if abs(f(xn)) < epsilon:\n",
    "            return xn, n + 1\n",
    "        xn = phi(xn)        \n",
    "    return None, max_iter\n",
    "\n",
    "a = 16\n",
    "phi = lambda x: 2*math.sin(x)\n",
    "f = lambda x:  math.sin(x) - x/2\n",
    "\n",
    "x_1, N = iteration_method(phi, f, -3, 1e-15, 10000)\n",
    "print(x_1, N)\n",
    "\n",
    "x_3, N = iteration_method(phi, f, 3, 1e-15, 10000)\n",
    "print(x_3, N)\n"
   ]
  },
  {
   "cell_type": "markdown",
   "metadata": {},
   "source": [
    "### Метод простых итераций\n",
    "$$\n",
    "x_{0} = -3\n",
    "$$\n",
    "$$\n",
    "x_{1} = -1.8954942670339798 \\ \\ \\ (\\varepsilon = 10^{-15})\n",
    "$$\n",
    "$$\n",
    "N = 77 \\ \\ (\\text{кол-во итераций})\n",
    "$$\n",
    "\n",
    "\n",
    "$$\n",
    "x_{0} = 3\n",
    "$$\n",
    "$$\n",
    "x_{3} = 1.8954942670339798 \\ \\ \\ (\\varepsilon = 10^{-15})\n",
    "$$\n",
    "$$\n",
    "N = 77 \\ \\ (\\text{кол-во итераций})\n",
    "$$"
   ]
  }
 ],
 "metadata": {
  "kernelspec": {
   "display_name": "Python 3",
   "language": "python",
   "name": "python3"
  },
  "language_info": {
   "codemirror_mode": {
    "name": "ipython",
    "version": 3
   },
   "file_extension": ".py",
   "mimetype": "text/x-python",
   "name": "python",
   "nbconvert_exporter": "python",
   "pygments_lexer": "ipython3",
   "version": "3.9.2"
  }
 },
 "nbformat": 4,
 "nbformat_minor": 4
}
