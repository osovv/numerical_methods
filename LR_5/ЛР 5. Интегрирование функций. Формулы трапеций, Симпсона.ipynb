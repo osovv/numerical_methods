{
 "metadata": {
  "language_info": {
   "codemirror_mode": {
    "name": "ipython",
    "version": 3
   },
   "file_extension": ".py",
   "mimetype": "text/x-python",
   "name": "python",
   "nbconvert_exporter": "python",
   "pygments_lexer": "ipython3",
   "version": "3.9.2"
  },
  "orig_nbformat": 2,
  "kernelspec": {
   "name": "python3",
   "display_name": "Python 3.9.2 64-bit",
   "metadata": {
    "interpreter": {
     "hash": "767d51c1340bd893661ea55ea3124f6de3c7a262a8b4abca0554b478b1e2ff90"
    }
   }
  }
 },
 "nbformat": 4,
 "nbformat_minor": 2,
 "cells": [
  {
   "source": [
    "# ЛР 5. Интегрирование функций. Формулы трапеций, Симпсона"
   ],
   "cell_type": "markdown",
   "metadata": {}
  },
  {
   "cell_type": "code",
   "execution_count": 2,
   "metadata": {},
   "outputs": [],
   "source": [
    "import numpy as np\n",
    "import sympy as sp\n",
    "import math\n",
    "import matplotlib.pyplot as plt\n",
    "%matplotlib inline\n",
    "plt.rcParams[\"figure.figsize\"] = (15,10)\n",
    "plt.rcParams['lines.linewidth'] = 2"
   ]
  },
  {
   "source": [
    "## Задание 1"
   ],
   "cell_type": "markdown",
   "metadata": {}
  },
  {
   "cell_type": "code",
   "execution_count": 4,
   "metadata": {},
   "outputs": [
    {
     "output_type": "stream",
     "name": "stdout",
     "text": [
      "0.25010412328196585\n"
     ]
    }
   ],
   "source": [
    "f = lambda x: x**3\n",
    "trap = lambda f, a, b: (f(a) + f(b)) * (b - a) / 2\n",
    "def trap(f, a, b):\n",
    "    x = np.linspace(a, b)\n",
    "    I = 0\n",
    "    for i in range(1, len(x)):\n",
    "        I += (f(x[i-1]) + f(x[i])) * (x[i] - x[i-1]) / 2\n",
    "    return I\n",
    "\n",
    "print(trap(f,0,1))"
   ]
  },
  {
   "cell_type": "code",
   "execution_count": null,
   "metadata": {},
   "outputs": [],
   "source": []
  }
 ]
}