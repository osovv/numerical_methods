{
 "metadata": {
  "language_info": {
   "codemirror_mode": {
    "name": "ipython",
    "version": 3
   },
   "file_extension": ".py",
   "mimetype": "text/x-python",
   "name": "python",
   "nbconvert_exporter": "python",
   "pygments_lexer": "ipython3",
   "version": "3.9.5"
  },
  "orig_nbformat": 2,
  "kernelspec": {
   "name": "python3",
   "display_name": "Python 3.9.5 64-bit",
   "metadata": {
    "interpreter": {
     "hash": "767d51c1340bd893661ea55ea3124f6de3c7a262a8b4abca0554b478b1e2ff90"
    }
   }
  }
 },
 "nbformat": 4,
 "nbformat_minor": 2,
 "cells": [
  {
   "source": [
    "# ЛР 5. Интегрирование функций. Формулы трапеций, Симпсона"
   ],
   "cell_type": "markdown",
   "metadata": {}
  },
  {
   "cell_type": "code",
   "execution_count": 1,
   "metadata": {},
   "outputs": [],
   "source": [
    "import numpy as np\n",
    "import sympy as sp\n",
    "import math\n",
    "import matplotlib.pyplot as plt\n",
    "%matplotlib inline\n",
    "plt.rcParams[\"figure.figsize\"] = (15,10)\n",
    "plt.rcParams['lines.linewidth'] = 2"
   ]
  },
  {
   "source": [
    "## Задание 1\n",
    "Задайте функцию $f(x) = x^3$ на отрезке $[0, 1]$. Очевидно, определённый интеграл от функции $f (x)$ на этом отрезке равен $\\frac{1}{4}$ . Напишите программу, вычисляющую значение интеграла по формулам трапеций и Симпсона. Какую максимальную теоретическую ошибку мы при этом допускаем? Найдите реальное значение погрешности (абсолютное значение разности между теоретическим и аналитическим решением). Почему при вычислении интеграла по формуле Симпсона от данной функции ошибка равна нулю? Какие бы получились значения погрешностей для квадратичной и линейной функций (предположите и проведите численный эксперимент для $f_2(x) = x^2$ , $f_1(x) = x/2$ на отрезке $[0, 1]$).\n"
   ],
   "cell_type": "markdown",
   "metadata": {}
  },
  {
   "cell_type": "code",
   "execution_count": 2,
   "metadata": {},
   "outputs": [
    {
     "output_type": "stream",
     "name": "stdout",
     "text": [
      "f = x ** 3\n",
      "trap {'val': 0.25010412328196585, 'R': 0.00020824656393169557, 'h': 0.02040816326530612}\n",
      "quad {'val': 0.25000000000000006, 'R': 0.0, 'h': 0.02040816326530612}\n",
      "\n",
      "f1 = x / 2\n",
      "trap {'val': 0.25, 'R': 0.0, 'h': 0.02040816326530612}\n",
      "quad {'val': 0.25, 'R': 0.0, 'h': 0.02040816326530612}\n",
      "\n",
      "f2 = x ** 2\n",
      "trap {'val': 0.33340274885464394, 'R': 6.94155213105652e-05, 'h': 0.02040816326530612}\n",
      "quad {'val': 0.3333333333333333, 'R': 0.0, 'h': 0.02040816326530612}\n",
      "\n",
      "f3 = x ** 4\n",
      "trap {'val': 0.20013882526040358, 'R': 0.00041649312786339114, 'h': 0.02040816326530612}\n",
      "quad {'val': 0.2000000014455544, 'R': 1.4455543796452592e-09, 'h': 0.02040816326530612}\n",
      "\n"
     ]
    }
   ],
   "source": [
    "from typing import TypedDict\n",
    "\n",
    "x = sp.Symbol('x')\n",
    "f = x ** 3\n",
    "f1 = x / 2\n",
    "f2 = x ** 2\n",
    "f3 = x ** 4\n",
    "\n",
    "def trap(f_sym, a, b, n=None):\n",
    "    x = np.linspace(a, b) if n is None else np.linspace(a, b, n)\n",
    "    I = 0\n",
    "    f = sp.lambdify(sp.Symbol('x'), f_sym)\n",
    "    df2 = sp.lambdify(sp.Symbol('x'), sp.diff(f_sym, sp.Symbol('x'), 2))\n",
    "    for i in range(1, len(x)):\n",
    "        I += (f(x[i-1]) + f(x[i])) * (x[i] - x[i-1]) / 2\n",
    "    M2 = max(abs(np.array(list(map(df2, x)))))\n",
    "    R = (x[i] - x[i-1])** 2 * (b - a) * M2 / 12\n",
    "    return dict(val=I, R=R, h=x[1] - x[0])\n",
    "\n",
    "def quad(f_sym, a, b, n=None):\n",
    "    x = np.linspace(a, b) if n is None else np.linspace(a, b, n)\n",
    "    I = 0\n",
    "    f = sp.lambdify(sp.Symbol('x'), f_sym)\n",
    "    df4 = sp.lambdify(sp.Symbol('x'), sp.diff(f_sym, sp.Symbol('x'), 4))\n",
    "    for i in range(1, len(x)):\n",
    "        h = x[i] - x[i-1]\n",
    "        I += h / 6 * (f(x[i-1]) + 4 * f(x[i-1] + h/2)  + f(x[i]))\n",
    "    M4 = max(abs(np.array(list(map(df4, x)))))\n",
    "    R = (x[i] - x[i-1]) ** 4 * (b - a) * M4 / 2880\n",
    "    return dict(val=I, R=R, h=x[1] - x[0])\n",
    "\n",
    "\n",
    "print(\"f = x ** 3\")\n",
    "print(\"trap\", trap(f,0,1))\n",
    "print(\"quad\", quad(f,0,1))\n",
    "print()\n",
    "\n",
    "print(\"f1 = x / 2\")\n",
    "print(\"trap\", trap(f1,0,1))\n",
    "print(\"quad\", quad(f1,0,1))\n",
    "print()\n",
    "\n",
    "print(\"f2 = x ** 2\")\n",
    "print(\"trap\", trap(f2,0,1))\n",
    "print(\"quad\", quad(f2,0,1))\n",
    "print()\n",
    "\n",
    "print(\"f3 = x ** 4\")\n",
    "print(\"trap\", trap(f3,0,1))\n",
    "print(\"quad\", quad(f3,0,1))\n",
    "print()"
   ]
  },
  {
   "source": [
    "Ошибка при вычислении по формуле Симпсона равна, т.к. формула Симпсона точна для любого многочлена 3 степени. Для оценки погрешности формулы Симпсона используется соотношение\n",
    "$|\\Psi| \\leq \\frac{h^4 (b − a)}{2880}M_4$, где $M_4 = max_{\\textrm{[a;b]}}|f^{IV}(x)|$ (см. лекцию 6). Для любого многочлена 3 степени $f^{IV}(x) = 0$. Следовательно, $M_4 = 0$ и $|\\Psi| = 0$\n"
   ],
   "cell_type": "markdown",
   "metadata": {}
  },
  {
   "source": [
    "## Задание 2\n",
    "Используя соотношение $\\int_0^1 \\frac{1}{1+x^2}dx = arctg(1)$ найдите значение числа $\\pi$ с точностью $10^{−6}$ . В данном задании в процессе вычислений нельзя использовать встроенную константу pi для определения величины шага. Из каких соображений выбирался шаг для получения указанной точности?"
   ],
   "cell_type": "markdown",
   "metadata": {}
  },
  {
   "cell_type": "code",
   "execution_count": 3,
   "metadata": {},
   "outputs": [
    {
     "output_type": "stream",
     "name": "stdout",
     "text": [
      "Pi calculated with integral (h = 0.1): 3.141592652969785\nBuilt-in pi: 3.141592653589793\nEror: 6.200080449048073e-10\n"
     ]
    }
   ],
   "source": [
    "x = sp.Symbol('x')\n",
    "f = 1 / (1 + x**2)\n",
    "\n",
    "val, R, h = None, None, None\n",
    "n = 2\n",
    "while True:\n",
    "    ret = quad(f, 0, 1, n)\n",
    "    val, R, h = ret['val'], ret['R'], ret['h']\n",
    "    n += 1\n",
    "    if R < 1e-6:\n",
    "        break\n",
    "pi = val * 4\n",
    "err = abs(np.pi - pi)\n",
    "print(f\"Pi calculated with integral (h = {h}): {pi}\")\n",
    "print(f\"Built-in pi: {np.pi}\")\n",
    "print(f\"Eror: {err}\")\n"
   ]
  },
  {
   "source": [
    "Т.к. $arctg(1) = \\frac{\\pi}{4}$, то $\\pi = 4 * arctg(1)$. Для нахождения значения с необходимой точностью, мы производим численное интегрирование с такой точностью, а из оценки точности интегрирования выбирается шаг. "
   ],
   "cell_type": "markdown",
   "metadata": {}
  },
  {
   "source": [
    "## Задание 3\n",
    "Реализовать предыдущее задание, определяя точность методом Рунге. При численном вычислении интегралов последовательно с шагами $h$ и $\\frac{h}{2}$ можно сократить число арифметических операций. Заметим, что приближённое значение интеграла $I_{\\frac{h}{2}}$ есть сумма, часть слагаемых которой возможно уже участвовало при вычислении $I_h$ . Поэтому можно получить $I_{\\frac{h}{2}}$ , используя числовое значение $I_h$ . Это позволяет избежать повторного суммирования части слагаемых.\n"
   ],
   "cell_type": "markdown",
   "metadata": {}
  },
  {
   "cell_type": "code",
   "execution_count": 4,
   "metadata": {},
   "outputs": [
    {
     "output_type": "stream",
     "name": "stdout",
     "text": [
      "Pi calculated with integral (h = 1.9073486328125e-06): 3.1415850241637644\nBuilt-in pi: 3.141592653589793\nEror: 9.536770502194258e-07\n"
     ]
    }
   ],
   "source": [
    "x = sp.Symbol('x')\n",
    "f_sym = 1 / (1 + x**2)\n",
    "f = sp.lambdify(x, f_sym)\n",
    "\n",
    "a = 0\n",
    "b = 1\n",
    "\n",
    "h = 1\n",
    "R = 1e100\n",
    "while R >= 1e-6:    \n",
    "    Ih = h * (f(a)/2 + sum(map(f, np.arange(a+h, b-h, h))) + f(b) / 2)\n",
    "    Ih2 = Ih/2 + h * sum(map(f, np.arange(a+h, b-h, 2*h)))\n",
    "    R = abs(Ih - Ih2)\n",
    "    h /= 2\n",
    "pi = Ih * 4\n",
    "\n",
    "print(f\"Pi calculated with integral (h = {h}): {pi}\")\n",
    "print(f\"Built-in pi: {np.pi}\")\n",
    "print(f\"Eror: {R}\")"
   ]
  },
  {
   "source": [
    "Использовал оценку без использования точного значения (как в БДЗ-2)"
   ],
   "cell_type": "markdown",
   "metadata": {}
  }
 ]
}