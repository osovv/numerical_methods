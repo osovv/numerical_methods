{
 "metadata": {
  "language_info": {
   "codemirror_mode": {
    "name": "ipython",
    "version": 3
   },
   "file_extension": ".py",
   "mimetype": "text/x-python",
   "name": "python",
   "nbconvert_exporter": "python",
   "pygments_lexer": "ipython3",
   "version": "3.9.5"
  },
  "orig_nbformat": 2,
  "kernelspec": {
   "name": "python395jvsc74a57bd04e1d9a8909477db77738c33245c29c7265277ef753467dede8cf3f814cde494e",
   "display_name": "Python 3.9.5 64-bit"
  }
 },
 "nbformat": 4,
 "nbformat_minor": 2,
 "cells": [
  {
   "source": [
    "# ЛР 6. Решение систем линейных уравнений."
   ],
   "cell_type": "markdown",
   "metadata": {}
  },
  {
   "cell_type": "code",
   "execution_count": 1,
   "metadata": {},
   "outputs": [],
   "source": [
    "import numpy as np\n",
    "import numpy.linalg as lin\n",
    "import sympy as sp\n",
    "import math\n",
    "import matplotlib.pyplot as plt\n",
    "%matplotlib inline\n",
    "plt.rcParams[\"figure.figsize\"] = (15,10)\n",
    "plt.rcParams['lines.linewidth'] = 2\n",
    "\n",
    "from time import time\n",
    "  \n",
    "  \n",
    "def timer_func(func):\n",
    "    # This function shows the execution time of \n",
    "    # the function object passed\n",
    "    def wrap_func(*args, **kwargs):\n",
    "        t1 = time()\n",
    "        result = func(*args, **kwargs)\n",
    "        t2 = time()\n",
    "        print(f'Function {func.__name__!r} executed in {(t2-t1):.4f}s')\n",
    "        return result\n",
    "    return wrap_func"
   ]
  },
  {
   "source": [
    "## Задание 1\n",
    "\n",
    "Задайте матрицу $A$ и вектор-столбец $f$ системы линейных уравнений $AX = f$, используя генератор случайных чисел. Очевидно, можно получить решение таким образом: $X = A^{−1} f$ (предварительно проверив, что матрица $A$ не вырожденная) или по правилу Крамера ($x_{i} = \\frac{det A_{i}}{det A}$ , где $A_{i}$ — матрица, получающаяся из матрицы $A$ заменой $i$-го столбца на столбец правой части $f$). Реализуйте и проверьте работоспособность этих методов. Несмотря на простоту использования в Matlab, эти варианты чрезвычайно неэкономичны по числу операций\n",
    "\n"
   ],
   "cell_type": "markdown",
   "metadata": {}
  },
  {
   "cell_type": "code",
   "execution_count": 2,
   "metadata": {},
   "outputs": [
    {
     "output_type": "stream",
     "name": "stdout",
     "text": [
      "A =\n [[4. 8. 3. 8. 5.]\n [4. 9. 3. 5. 2.]\n [2. 8. 9. 6. 3.]\n [8. 8. 1. 5. 3.]\n [5. 5. 1. 9. 1.]]\nf = \n [[-1.]\n [ 2.]\n [-4.]\n [ 4.]\n [-2.]]\nFunction 'default_solution' executed in 0.0003s\nFunction 'kramer' executed in 0.0003s\nX1 =\n [ 0.36392811  0.68741977 -0.63564399 -0.73127942 -0.03958066]\nX2 =\n [ 0.36392811  0.68741977 -0.63564399 -0.73127942 -0.03958066]\n"
     ]
    }
   ],
   "source": [
    "N = 5\n",
    "\n",
    "@timer_func\n",
    "def default_solution(A, f):\n",
    "    X = lin.lstsq(A, f, rcond=None)[0]\n",
    "    return np.reshape(X, len(X))\n",
    "\n",
    "@timer_func\n",
    "def kramer(A, f):\n",
    "    n = np.size(A, 1)\n",
    "    X = np.zeros((n, 1))\n",
    "    det_A = lin.det(A)\n",
    "    if det_A == 0:\n",
    "        print(\"Singular matrix given!\")\n",
    "        return []\n",
    "    for i in range(n):\n",
    "        tmp = np.copy(A)\n",
    "        tmp[:,i] = f.T\n",
    "        X[i] = lin.det(tmp)/det_A\n",
    "    return np.reshape(X, len(X))\n",
    "\n",
    "A = np.random.randint(1, 10, size=(N, N)).astype(\"float\")\n",
    "f = np.random.randint(-5, 5, size=(N, 1)).astype(\"float\")\n",
    "print(\"A =\\n\", A)\n",
    "print(\"f = \\n\", f)\n",
    "X1 = default_solution(A, f)\n",
    "X2 = kramer(A, f)\n",
    "print(\"X1 =\\n\", np.reshape(X1, len(X1)))\n",
    "print(\"X2 =\\n\", X2)\n",
    "\n"
   ]
  },
  {
   "source": [
    "Всё работает, как и ожидается, причём левое деление работает очень быстро (что ожидаемо)."
   ],
   "cell_type": "markdown",
   "metadata": {}
  },
  {
   "source": [
    "## Задание 2\n",
    "Напишите программу нахождения решения системы линейных урав- нений методом Гаусса с выбором главного элемента."
   ],
   "cell_type": "markdown",
   "metadata": {}
  },
  {
   "cell_type": "code",
   "execution_count": 3,
   "metadata": {},
   "outputs": [
    {
     "output_type": "stream",
     "name": "stdout",
     "text": [
      "Function 'gauss' executed in 0.0005s\nX2 =\n [ 0.36392811  0.68741977 -0.63564399 -0.73127942 -0.03958066]\nX3 =\n [ 0.36392811  0.68741977 -0.63564399 -0.73127942 -0.03958066]\n"
     ]
    }
   ],
   "source": [
    "@timer_func\n",
    "def gauss(A_, f_):\n",
    "    A = A_.copy()\n",
    "    f = f_.copy()\n",
    "    B = np.c_[A,f]\n",
    "    n = np.size(A, 1)\n",
    "    max_elems = np.zeros(n-1)\n",
    "    k = 0\n",
    "    idx = 0\n",
    "    for i in range(n-1):\n",
    "        max_elems[i] = np.amax(abs(A[i:,k]))\n",
    "        idx = np.argmax(abs(A[i:,k]))\n",
    "        idx = idx + i\n",
    "        tmp = A[k,:].copy()\n",
    "        A[k,:] = A[idx,:].copy()\n",
    "        A[idx,:] = tmp.copy()\n",
    "        tmp = f[k].copy()\n",
    "        f[k] = f[idx].copy()\n",
    "        f[idx] = tmp.copy()\n",
    "        for j in range(i+1, n):\n",
    "            coef = A[j,k] / A[i,k]\n",
    "            A[j,:] = A[j,:] - A[i,:] * coef\n",
    "            f[j] = f[j] - f[i] * coef\n",
    "        k += 1\n",
    "    matr = A.copy()\n",
    "    b = f.copy()\n",
    "    X = np.zeros(n)\n",
    "    X[n-1] = b[n-1] / matr[n-1][n-1]\n",
    "    for i in range(n-2, -1, -1):\n",
    "        sum_ = 0\n",
    "        for j in range(n-1, i-1, -1):\n",
    "            sum_ += X[j] * matr[i,j]\n",
    "        X[i] = (b[i] - sum_) / matr[i,i]\n",
    "    return X\n",
    "\n",
    "X3 = gauss(A, f)\n",
    "print(\"X2 =\\n\", X2)\n",
    "print(\"X3 =\\n\", X3)"
   ]
  },
  {
   "source": [
    "Скорее всего, не самая эффективная реализация метода Гаусса."
   ],
   "cell_type": "markdown",
   "metadata": {}
  },
  {
   "source": [
    "## Задание 3\n",
    "Задайте случайным образом матрицу $A$ размерности $20 × 20$ и вектор $X$. Определите число обусловленности матрицы $A$ с помощью функции ```cond```. Изменяя значения некоторых элементов матрицы $A$, добейтесь, чтобы её число обусловленности стало больше $10^3$ . Используя $A$ и $X$, найдите вектор $f = AX$. Полагая вектор $X$ неизвестным, решите систему линейных уравнений всеми предложенными выше методами и сравните найденные решения с уже известным. Какой из методов дал более точный результат? Обратите внимание на решения, полученные обычным методом Гаусса и методом с выбором главного элемента."
   ],
   "cell_type": "markdown",
   "metadata": {}
  },
  {
   "cell_type": "code",
   "execution_count": 4,
   "metadata": {},
   "outputs": [
    {
     "output_type": "stream",
     "name": "stdout",
     "text": [
      "Function 'default_solution' executed in 0.0004s\nFunction 'kramer' executed in 0.0011s\nFunction 'gauss' executed in 0.0022s\nX =\n [ 23.   9. -35.   9.  42. -32.  -2. -33. -34. -13.  41.  -4. -14.  30.\n -43.  12. -20. -25.  41.  -7.]\nX2 =\n [ 23.   9. -35.   9.  42. -32.  -2. -33. -34. -13.  41.  -4. -14.  30.\n -43.  12. -20. -25.  41.  -7.]\nX3 =\n [ 23.   9. -35.   9.  42. -32.  -2. -33. -34. -13.  41.  -4. -14.  30.\n -43.  12. -20. -25.  41.  -7.]\nX4 = \n [ 23.   9. -35.   9.  42. -32.  -2. -33. -34. -13.  41.  -4. -14.  30.\n -43.  12. -20. -25.  41.  -7.]\n"
     ]
    }
   ],
   "source": [
    "N = 20\n",
    "A = np.random.randint(1, 100, size=(N, N)).astype(\"float\")\n",
    "X = np.random.randint(-50, 50, size=(N, 1)).astype(\"float\")\n",
    "while lin.cond(A) <= 10**3:\n",
    "    A += 100\n",
    "f = np.matmul(A, X)\n",
    "X2 = default_solution(A, f)\n",
    "X3 = kramer(A, f)\n",
    "X4 = gauss(A, f)\n",
    "print(\"X =\\n\", np.reshape(X, len(X)))\n",
    "print(\"X2 =\\n\", X2)\n",
    "print(\"X3 =\\n\", X3)\n",
    "print(\"X4 = \\n\", X4)"
   ]
  },
  {
   "source": [
    "Комментировать, вроде как, нечего."
   ],
   "cell_type": "markdown",
   "metadata": {}
  },
  {
   "source": [
    "## Дополнительно\n",
    "Засечем время работы для матрицы большой размерности"
   ],
   "cell_type": "markdown",
   "metadata": {}
  },
  {
   "cell_type": "code",
   "execution_count": 5,
   "metadata": {},
   "outputs": [
    {
     "output_type": "stream",
     "name": "stdout",
     "text": [
      "Function 'default_solution' executed in 0.0196s\n",
      "/usr/lib/python3.9/site-packages/numpy/linalg/linalg.py:2158: RuntimeWarning: overflow encountered in det\n",
      "  r = _umath_linalg.det(a, signature=signature)\n",
      "<ipython-input-2-7f42471d9aab>:19: RuntimeWarning: invalid value encountered in double_scalars\n",
      "  X[i] = lin.det(tmp)/det_A\n",
      "Function 'kramer' executed in 0.4923s\n",
      "Function 'gauss' executed in 0.1451s\n"
     ]
    }
   ],
   "source": [
    "N = 200\n",
    "A = np.random.randint(1, 100, size=(N, N)).astype(\"float\")\n",
    "X = np.random.randint(-50, 50, size=(N, 1)).astype(\"float\")\n",
    "while lin.cond(A) <= 10**3:\n",
    "    A += 100\n",
    "f = np.matmul(A, X)\n",
    "X2 = default_solution(A, f)\n",
    "X3 = kramer(A, f)\n",
    "X4 = gauss(A, f)"
   ]
  },
  {
   "source": [
    "Видим, что нативная реализация (левое матричное деление) работает быстрее всего. Потом по скорости идёт метод Гаусса. Самым медленным является метод Крамера. Возможно, можно сделать метод Гаусса ещё быстрее, улучшив реализацию."
   ],
   "cell_type": "markdown",
   "metadata": {}
  }
 ]
}