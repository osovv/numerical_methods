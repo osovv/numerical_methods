{
 "metadata": {
  "language_info": {
   "codemirror_mode": {
    "name": "ipython",
    "version": 3
   },
   "file_extension": ".py",
   "mimetype": "text/x-python",
   "name": "python",
   "nbconvert_exporter": "python",
   "pygments_lexer": "ipython3",
   "version": "3.9.5"
  },
  "orig_nbformat": 2,
  "kernelspec": {
   "name": "python3",
   "display_name": "Python 3.9.5 64-bit",
   "metadata": {
    "interpreter": {
     "hash": "767d51c1340bd893661ea55ea3124f6de3c7a262a8b4abca0554b478b1e2ff90"
    }
   }
  }
 },
 "nbformat": 4,
 "nbformat_minor": 2,
 "cells": [
  {
   "source": [
    "# ЛР 4. Дифференцированние функции, заданной таблично."
   ],
   "cell_type": "markdown",
   "metadata": {}
  },
  {
   "cell_type": "code",
   "execution_count": 1,
   "metadata": {},
   "outputs": [],
   "source": [
    "import numpy as np\n",
    "import sympy as sp\n",
    "import pandas as pd\n",
    "import math\n",
    "import matplotlib.pyplot as plt\n",
    "%matplotlib inline\n",
    "plt.rcParams[\"figure.figsize\"] = (15,10)\n",
    "plt.rcParams['lines.linewidth'] = 2"
   ]
  },
  {
   "source": [
    "## Задание 1\n",
    "Выберите некоторую функцию (например, $sin(x)$, $cos(x)$, $exp(x)$, $sh(x)$, $ch(x)$, $ln(x)$, ... ) и некоторую точку $x$ из области определения функции. Найдите значение производной функции в выбранной точке (используя любую формулу численного дифференцирования) с точностью $10^{−3}$ , $10^{−6}$ . Пользоваться точным значением производной в качестве эталона запрещено."
   ],
   "cell_type": "markdown",
   "metadata": {}
  },
  {
   "cell_type": "code",
   "execution_count": 2,
   "metadata": {},
   "outputs": [
    {
     "output_type": "stream",
     "name": "stdout",
     "text": [
      "diff(exp(x)) = exp(x)\nExp(x) at x0 = 2: 7.38905609893065\nDiff of exp(x) at x0 = 2 with eps = 0.001: 7.389356764063223\nDiff of exp(x) at x0 = 2 with eps = 1e-06: 7.3890563925451715\n"
     ]
    }
   ],
   "source": [
    "f = lambda x: np.exp(x)\n",
    "\n",
    "def Rh2(F3, x0, h):\n",
    "    x = np.linspace(x0-h, x0+h)\n",
    "    y = abs(F3(x) * h**2 / 6)\n",
    "    return max(y)\n",
    "\n",
    "def derivative(f, F3, x0, eps):\n",
    "    h = 1\n",
    "    while Rh2(F3, x0, h) >= eps:\n",
    "        h = h / 2\n",
    "    return (f(x0+h) - f(x0-h)) / (2*h)\n",
    "\n",
    "print('diff(exp(x)) = exp(x)')\n",
    "F3 = np.exp\n",
    "x0 = 2\n",
    "eps1 = 1e-3\n",
    "eps2 = 1e-6\n",
    "print(f'Exp(x) at x0 = {x0}:', np.exp(x0))\n",
    "print(f'Diff of exp(x) at x0 = {x0} with eps = {eps1}:', derivative(f, F3, x0, eps1))\n",
    "print(f'Diff of exp(x) at x0 = {x0} with eps = {eps2}:', derivative(f, F3, x0, eps2))"
   ]
  },
  {
   "source": [
    "Мы знаем, что $e'(x) = e(x)$. Будем использовать это для самопроверки. Для численного дифференцирования выбрал формулу центральной разности $f'(x) = \\frac{f(x+h) - f(x-h)}{2h} + O(h^{2})$, где $O(h^{2}) = \\max{\\frac{h^{2}f'''(\\eta)}{6}},  \\eta \\in [x-h, x+h]$ - погрешность вычисления.\n"
   ],
   "cell_type": "markdown",
   "metadata": {}
  },
  {
   "source": [
    "# Задание 2\n",
    "\n",
    "Выберите некоторую функцию (например, $sin(x)$, $cos(x)$, $exp(x)$, $sh(x)$, $ch(x)$, $ln(x)$, ... ) и некоторую точку $x$ из области определения функции. Сравните погрешности у формул с разными порядками погрешностей (например, $y'(x) \\approx \\frac{y(x+h)−y(x)}{h}$ и  $y'(x) \\approx \\frac{y(x+h)−y(x-h)}{2h}$) для последовательности убывающих шагов  (например, $h = \\frac{1}{2}, \\frac{1}{4}, \\frac{1}{8}$ ). С какими скоростями убывают погрешности для каждой формулы? Дайте теоретическую оценку и подтвердите ответ экспериментом."
   ],
   "cell_type": "markdown",
   "metadata": {}
  },
  {
   "cell_type": "code",
   "execution_count": 3,
   "metadata": {},
   "outputs": [
    {
     "output_type": "execute_result",
     "data": {
      "text/plain": [
       "        h      real      f1(2)     f2(2)       O(h)   f1_diff    O(h^2)  \\\n",
       "0  1.0000  7.389056  12.696481  8.683628  10.042768  5.307425  3.347589   \n",
       "1  0.5000  7.389056   9.586876  7.700805   3.045623  2.197820  0.507604   \n",
       "2  0.2500  7.389056   8.394719  7.466266   1.185967  1.005663  0.098831   \n",
       "3  0.1250  7.389056   7.870731  7.408313   0.523306  0.481675  0.021804   \n",
       "4  0.0625  7.389056   7.624851  7.393868   0.245800  0.235795  0.005121   \n",
       "\n",
       "    f2_diff  \n",
       "0  1.294571  \n",
       "1  0.311749  \n",
       "2  0.077210  \n",
       "3  0.019257  \n",
       "4  0.004812  "
      ],
      "text/html": "<div>\n<style scoped>\n    .dataframe tbody tr th:only-of-type {\n        vertical-align: middle;\n    }\n\n    .dataframe tbody tr th {\n        vertical-align: top;\n    }\n\n    .dataframe thead th {\n        text-align: right;\n    }\n</style>\n<table border=\"1\" class=\"dataframe\">\n  <thead>\n    <tr style=\"text-align: right;\">\n      <th></th>\n      <th>h</th>\n      <th>real</th>\n      <th>f1(2)</th>\n      <th>f2(2)</th>\n      <th>O(h)</th>\n      <th>f1_diff</th>\n      <th>O(h^2)</th>\n      <th>f2_diff</th>\n    </tr>\n  </thead>\n  <tbody>\n    <tr>\n      <th>0</th>\n      <td>1.0000</td>\n      <td>7.389056</td>\n      <td>12.696481</td>\n      <td>8.683628</td>\n      <td>10.042768</td>\n      <td>5.307425</td>\n      <td>3.347589</td>\n      <td>1.294571</td>\n    </tr>\n    <tr>\n      <th>1</th>\n      <td>0.5000</td>\n      <td>7.389056</td>\n      <td>9.586876</td>\n      <td>7.700805</td>\n      <td>3.045623</td>\n      <td>2.197820</td>\n      <td>0.507604</td>\n      <td>0.311749</td>\n    </tr>\n    <tr>\n      <th>2</th>\n      <td>0.2500</td>\n      <td>7.389056</td>\n      <td>8.394719</td>\n      <td>7.466266</td>\n      <td>1.185967</td>\n      <td>1.005663</td>\n      <td>0.098831</td>\n      <td>0.077210</td>\n    </tr>\n    <tr>\n      <th>3</th>\n      <td>0.1250</td>\n      <td>7.389056</td>\n      <td>7.870731</td>\n      <td>7.408313</td>\n      <td>0.523306</td>\n      <td>0.481675</td>\n      <td>0.021804</td>\n      <td>0.019257</td>\n    </tr>\n    <tr>\n      <th>4</th>\n      <td>0.0625</td>\n      <td>7.389056</td>\n      <td>7.624851</td>\n      <td>7.393868</td>\n      <td>0.245800</td>\n      <td>0.235795</td>\n      <td>0.005121</td>\n      <td>0.004812</td>\n    </tr>\n  </tbody>\n</table>\n</div>"
     },
     "metadata": {},
     "execution_count": 3
    }
   ],
   "source": [
    "\n",
    "f = lambda x: np.exp(x)\n",
    "\n",
    "def Rh(F2, x0, h):\n",
    "    x = np.linspace(x0, x0+h)\n",
    "    y = abs(F2(x) * h / 2)\n",
    "    return max(y)\n",
    "\n",
    "def Rh2(F3, x0, h):\n",
    "    x = np.linspace(x0-h, x0+h)\n",
    "    y = abs(F3(x) * h**2 / 6)\n",
    "    return max(y)\n",
    "\n",
    "def der_formula1(f, x0, h):\n",
    "    return (f(x0+h) - f(x0)) / h\n",
    "\n",
    "def der_formula2(f, x0, h):\n",
    "    return (f(x0+h) - f(x0-h)) / (2*h)\n",
    "\n",
    "x0 = 2\n",
    "F2 = np.exp\n",
    "F3 = np.exp\n",
    "h = np.array([1, 1/2, 1/4, 1/8, 1/16])\n",
    "Oh = np.array([Rh(F2, x0, c) for c in h])\n",
    "Oh2 = np.array([Rh2(F3, x0, c) for c in h])\n",
    "ideal = np.array([f(x0)] * len(h))\n",
    "f1_values = np.array([der_formula1(f, x0, c) for c in  h])\n",
    "f2_values = np.array([der_formula2(f, x0, c) for c in  h])\n",
    "columns = {\n",
    "    \"h\" : h,\n",
    "    \"real\": ideal,\n",
    "    \"f1(2)\": f1_values,\n",
    "    \"f2(2)\": f2_values,\n",
    "    \"O(h)\": Oh,\n",
    "    \"diff_1\": abs(f1_values - ideal),\n",
    "    \"O(h^2)\": Oh2,\n",
    "    \"diff_2\": abs(f2_values - ideal)\n",
    "}\n",
    "df = pd.DataFrame(columns, columns=columns.keys())\n",
    "df"
   ]
  },
  {
   "source": [
    "$O(h)$ и $O(h^2)$ - теоретические оценки погрешонсти. *f1_diff* и *f2_diff* - экспериментальные.\n",
    "\n",
    "Погрешность первого порядка уменьшается примерно во столько раз, во сколько раз уменьшается $h$. Погрешность второго порядка - в квадрат этой величины."
   ],
   "cell_type": "markdown",
   "metadata": {}
  },
  {
   "source": [
    "# Задание 3\n",
    "Неустойчивость численного дифференцирования. Выберите некторую функцию (например, $sin (x)$, $cos (x)$, $exp (x)$, $sh (x)$, $ln (x)$, ...) и некоторую точку $x$ из области определения функции. Попробуйте применить формулу $y'(x) \\approx \\frac{y(x+h)−y(x)}{h}$ для стремящейся к нулю последовательности $h = \\frac{1}{2}, \\frac{1}{4}, \\frac{1}{8}, \\frac{1}{16}, ...$). Будет ли погрешность $\\varepsilon = \\lvert y'(x) − \\frac{y(x+h)−y(x)}{h} \\rvert$ монотонно убывать при уменьшении $h$? Сравните практический и теоретический результаты."
   ],
   "cell_type": "markdown",
   "metadata": {}
  },
  {
   "cell_type": "code",
   "execution_count": 4,
   "metadata": {},
   "outputs": [
    {
     "output_type": "execute_result",
     "data": {
      "text/plain": [
       "               h        df     theor_err     exper_err\n",
       "0   5.000000e-01  9.586876  3.045623e+00  2.197820e+00\n",
       "1   2.500000e-01  8.394719  1.185967e+00  1.005663e+00\n",
       "2   1.250000e-01  7.870731  5.233061e-01  4.816750e-01\n",
       "3   6.250000e-02  7.624851  2.458003e-01  2.357947e-01\n",
       "4   3.125000e-02  7.505722  1.191189e-01  1.166661e-01\n",
       "5   1.562500e-02  7.447085  5.863607e-02  5.802884e-02\n",
       "6   7.812500e-03  7.417995  2.908988e-02  2.893881e-02\n",
       "7   3.906250e-03  7.403507  1.448823e-02  1.445056e-02\n",
       "8   1.953125e-03  7.396277  7.229982e-03  7.220575e-03\n",
       "9   9.765625e-04  7.392665  3.611463e-03  3.609112e-03\n",
       "10  4.882812e-04  7.390860  1.804850e-03  1.804262e-03\n",
       "11  2.441406e-04  7.389958  9.022046e-04  9.020578e-04\n",
       "12  1.220703e-04  7.389507  4.510472e-04  4.510105e-04\n",
       "13  6.103516e-05  7.389282  2.255099e-04  2.255007e-04\n",
       "14  3.051758e-05  7.389169  1.127515e-04  1.127492e-04\n",
       "15  1.525879e-05  7.389112  5.637488e-05  5.637430e-05\n",
       "16  7.629395e-06  7.389084  2.818723e-05  2.818701e-05\n",
       "17  3.814697e-06  7.389070  1.409356e-05  1.409342e-05\n",
       "18  1.907349e-06  7.389063  7.046766e-06  7.046569e-06\n",
       "19  9.536743e-07  7.389060  3.523380e-06  3.522910e-06\n",
       "20  4.768372e-07  7.389058  1.761689e-06  1.760848e-06\n",
       "21  2.384186e-07  7.389057  8.808443e-07  8.816792e-07\n",
       "22  1.192093e-07  7.389057  4.404221e-07  4.420950e-07\n",
       "23  5.960464e-08  7.389056  2.202110e-07  2.111270e-07\n",
       "24  2.980232e-08  7.389056  1.101055e-07  1.068189e-07\n",
       "25  1.490116e-08  7.389056  5.505276e-08  4.721422e-08\n",
       "26  7.450581e-09  7.389056  2.752638e-08  1.239043e-08\n",
       "27  3.725290e-09  7.389056  1.376319e-08  1.315997e-07\n",
       "28  1.862645e-09  7.389056  6.881595e-09  1.068189e-07\n",
       "29  9.313226e-10  7.389056  3.440797e-09  1.068189e-07\n",
       "30  4.656613e-10  7.389055  1.720399e-09  8.468555e-07\n",
       "31  2.328306e-10  7.389057  8.601993e-10  1.060493e-06\n",
       "32  1.164153e-10  7.389053  4.300997e-10  2.754204e-06\n",
       "33  5.820766e-11  7.389053  2.150498e-10  2.754204e-06\n",
       "34  2.910383e-11  7.389038  1.075249e-10  1.801299e-05\n",
       "35  1.455192e-11  7.389038  5.376246e-11  1.801299e-05\n",
       "36  7.275958e-12  7.389038  2.688123e-11  1.801299e-05\n",
       "37  3.637979e-12  7.388916  1.344061e-11  1.400833e-04\n",
       "38  1.818989e-12  7.389160  6.720307e-12  1.040573e-04\n",
       "39  9.094947e-13  7.388672  3.360154e-12  3.842239e-04\n",
       "40  4.547474e-13  7.388672  1.680077e-12  3.842239e-04\n",
       "41  2.273737e-13  7.386719  8.400384e-13  2.337349e-03\n",
       "42  1.136868e-13  7.390625  4.200192e-13  1.568901e-03\n",
       "43  5.684342e-14  7.390625  2.100096e-13  1.568901e-03\n",
       "44  2.842171e-14  7.375000  1.050048e-13  1.405610e-02\n",
       "45  1.421085e-14  7.375000  5.250240e-14  1.405610e-02\n",
       "46  7.105427e-15  7.375000  2.625120e-14  1.405610e-02\n",
       "47  3.552714e-15  7.250000  1.312560e-14  1.390561e-01\n",
       "48  1.776357e-15  7.500000  6.562800e-15  1.109439e-01\n",
       "49  8.881784e-16  7.000000  3.281400e-15  3.890561e-01\n",
       "50  4.440892e-16  6.000000  1.640700e-15  1.389056e+00\n",
       "51  2.220446e-16  0.000000  8.203500e-16  7.389056e+00"
      ],
      "text/html": "<div>\n<style scoped>\n    .dataframe tbody tr th:only-of-type {\n        vertical-align: middle;\n    }\n\n    .dataframe tbody tr th {\n        vertical-align: top;\n    }\n\n    .dataframe thead th {\n        text-align: right;\n    }\n</style>\n<table border=\"1\" class=\"dataframe\">\n  <thead>\n    <tr style=\"text-align: right;\">\n      <th></th>\n      <th>h</th>\n      <th>df</th>\n      <th>theor_err</th>\n      <th>exper_err</th>\n    </tr>\n  </thead>\n  <tbody>\n    <tr>\n      <th>0</th>\n      <td>5.000000e-01</td>\n      <td>9.586876</td>\n      <td>3.045623e+00</td>\n      <td>2.197820e+00</td>\n    </tr>\n    <tr>\n      <th>1</th>\n      <td>2.500000e-01</td>\n      <td>8.394719</td>\n      <td>1.185967e+00</td>\n      <td>1.005663e+00</td>\n    </tr>\n    <tr>\n      <th>2</th>\n      <td>1.250000e-01</td>\n      <td>7.870731</td>\n      <td>5.233061e-01</td>\n      <td>4.816750e-01</td>\n    </tr>\n    <tr>\n      <th>3</th>\n      <td>6.250000e-02</td>\n      <td>7.624851</td>\n      <td>2.458003e-01</td>\n      <td>2.357947e-01</td>\n    </tr>\n    <tr>\n      <th>4</th>\n      <td>3.125000e-02</td>\n      <td>7.505722</td>\n      <td>1.191189e-01</td>\n      <td>1.166661e-01</td>\n    </tr>\n    <tr>\n      <th>5</th>\n      <td>1.562500e-02</td>\n      <td>7.447085</td>\n      <td>5.863607e-02</td>\n      <td>5.802884e-02</td>\n    </tr>\n    <tr>\n      <th>6</th>\n      <td>7.812500e-03</td>\n      <td>7.417995</td>\n      <td>2.908988e-02</td>\n      <td>2.893881e-02</td>\n    </tr>\n    <tr>\n      <th>7</th>\n      <td>3.906250e-03</td>\n      <td>7.403507</td>\n      <td>1.448823e-02</td>\n      <td>1.445056e-02</td>\n    </tr>\n    <tr>\n      <th>8</th>\n      <td>1.953125e-03</td>\n      <td>7.396277</td>\n      <td>7.229982e-03</td>\n      <td>7.220575e-03</td>\n    </tr>\n    <tr>\n      <th>9</th>\n      <td>9.765625e-04</td>\n      <td>7.392665</td>\n      <td>3.611463e-03</td>\n      <td>3.609112e-03</td>\n    </tr>\n    <tr>\n      <th>10</th>\n      <td>4.882812e-04</td>\n      <td>7.390860</td>\n      <td>1.804850e-03</td>\n      <td>1.804262e-03</td>\n    </tr>\n    <tr>\n      <th>11</th>\n      <td>2.441406e-04</td>\n      <td>7.389958</td>\n      <td>9.022046e-04</td>\n      <td>9.020578e-04</td>\n    </tr>\n    <tr>\n      <th>12</th>\n      <td>1.220703e-04</td>\n      <td>7.389507</td>\n      <td>4.510472e-04</td>\n      <td>4.510105e-04</td>\n    </tr>\n    <tr>\n      <th>13</th>\n      <td>6.103516e-05</td>\n      <td>7.389282</td>\n      <td>2.255099e-04</td>\n      <td>2.255007e-04</td>\n    </tr>\n    <tr>\n      <th>14</th>\n      <td>3.051758e-05</td>\n      <td>7.389169</td>\n      <td>1.127515e-04</td>\n      <td>1.127492e-04</td>\n    </tr>\n    <tr>\n      <th>15</th>\n      <td>1.525879e-05</td>\n      <td>7.389112</td>\n      <td>5.637488e-05</td>\n      <td>5.637430e-05</td>\n    </tr>\n    <tr>\n      <th>16</th>\n      <td>7.629395e-06</td>\n      <td>7.389084</td>\n      <td>2.818723e-05</td>\n      <td>2.818701e-05</td>\n    </tr>\n    <tr>\n      <th>17</th>\n      <td>3.814697e-06</td>\n      <td>7.389070</td>\n      <td>1.409356e-05</td>\n      <td>1.409342e-05</td>\n    </tr>\n    <tr>\n      <th>18</th>\n      <td>1.907349e-06</td>\n      <td>7.389063</td>\n      <td>7.046766e-06</td>\n      <td>7.046569e-06</td>\n    </tr>\n    <tr>\n      <th>19</th>\n      <td>9.536743e-07</td>\n      <td>7.389060</td>\n      <td>3.523380e-06</td>\n      <td>3.522910e-06</td>\n    </tr>\n    <tr>\n      <th>20</th>\n      <td>4.768372e-07</td>\n      <td>7.389058</td>\n      <td>1.761689e-06</td>\n      <td>1.760848e-06</td>\n    </tr>\n    <tr>\n      <th>21</th>\n      <td>2.384186e-07</td>\n      <td>7.389057</td>\n      <td>8.808443e-07</td>\n      <td>8.816792e-07</td>\n    </tr>\n    <tr>\n      <th>22</th>\n      <td>1.192093e-07</td>\n      <td>7.389057</td>\n      <td>4.404221e-07</td>\n      <td>4.420950e-07</td>\n    </tr>\n    <tr>\n      <th>23</th>\n      <td>5.960464e-08</td>\n      <td>7.389056</td>\n      <td>2.202110e-07</td>\n      <td>2.111270e-07</td>\n    </tr>\n    <tr>\n      <th>24</th>\n      <td>2.980232e-08</td>\n      <td>7.389056</td>\n      <td>1.101055e-07</td>\n      <td>1.068189e-07</td>\n    </tr>\n    <tr>\n      <th>25</th>\n      <td>1.490116e-08</td>\n      <td>7.389056</td>\n      <td>5.505276e-08</td>\n      <td>4.721422e-08</td>\n    </tr>\n    <tr>\n      <th>26</th>\n      <td>7.450581e-09</td>\n      <td>7.389056</td>\n      <td>2.752638e-08</td>\n      <td>1.239043e-08</td>\n    </tr>\n    <tr>\n      <th>27</th>\n      <td>3.725290e-09</td>\n      <td>7.389056</td>\n      <td>1.376319e-08</td>\n      <td>1.315997e-07</td>\n    </tr>\n    <tr>\n      <th>28</th>\n      <td>1.862645e-09</td>\n      <td>7.389056</td>\n      <td>6.881595e-09</td>\n      <td>1.068189e-07</td>\n    </tr>\n    <tr>\n      <th>29</th>\n      <td>9.313226e-10</td>\n      <td>7.389056</td>\n      <td>3.440797e-09</td>\n      <td>1.068189e-07</td>\n    </tr>\n    <tr>\n      <th>30</th>\n      <td>4.656613e-10</td>\n      <td>7.389055</td>\n      <td>1.720399e-09</td>\n      <td>8.468555e-07</td>\n    </tr>\n    <tr>\n      <th>31</th>\n      <td>2.328306e-10</td>\n      <td>7.389057</td>\n      <td>8.601993e-10</td>\n      <td>1.060493e-06</td>\n    </tr>\n    <tr>\n      <th>32</th>\n      <td>1.164153e-10</td>\n      <td>7.389053</td>\n      <td>4.300997e-10</td>\n      <td>2.754204e-06</td>\n    </tr>\n    <tr>\n      <th>33</th>\n      <td>5.820766e-11</td>\n      <td>7.389053</td>\n      <td>2.150498e-10</td>\n      <td>2.754204e-06</td>\n    </tr>\n    <tr>\n      <th>34</th>\n      <td>2.910383e-11</td>\n      <td>7.389038</td>\n      <td>1.075249e-10</td>\n      <td>1.801299e-05</td>\n    </tr>\n    <tr>\n      <th>35</th>\n      <td>1.455192e-11</td>\n      <td>7.389038</td>\n      <td>5.376246e-11</td>\n      <td>1.801299e-05</td>\n    </tr>\n    <tr>\n      <th>36</th>\n      <td>7.275958e-12</td>\n      <td>7.389038</td>\n      <td>2.688123e-11</td>\n      <td>1.801299e-05</td>\n    </tr>\n    <tr>\n      <th>37</th>\n      <td>3.637979e-12</td>\n      <td>7.388916</td>\n      <td>1.344061e-11</td>\n      <td>1.400833e-04</td>\n    </tr>\n    <tr>\n      <th>38</th>\n      <td>1.818989e-12</td>\n      <td>7.389160</td>\n      <td>6.720307e-12</td>\n      <td>1.040573e-04</td>\n    </tr>\n    <tr>\n      <th>39</th>\n      <td>9.094947e-13</td>\n      <td>7.388672</td>\n      <td>3.360154e-12</td>\n      <td>3.842239e-04</td>\n    </tr>\n    <tr>\n      <th>40</th>\n      <td>4.547474e-13</td>\n      <td>7.388672</td>\n      <td>1.680077e-12</td>\n      <td>3.842239e-04</td>\n    </tr>\n    <tr>\n      <th>41</th>\n      <td>2.273737e-13</td>\n      <td>7.386719</td>\n      <td>8.400384e-13</td>\n      <td>2.337349e-03</td>\n    </tr>\n    <tr>\n      <th>42</th>\n      <td>1.136868e-13</td>\n      <td>7.390625</td>\n      <td>4.200192e-13</td>\n      <td>1.568901e-03</td>\n    </tr>\n    <tr>\n      <th>43</th>\n      <td>5.684342e-14</td>\n      <td>7.390625</td>\n      <td>2.100096e-13</td>\n      <td>1.568901e-03</td>\n    </tr>\n    <tr>\n      <th>44</th>\n      <td>2.842171e-14</td>\n      <td>7.375000</td>\n      <td>1.050048e-13</td>\n      <td>1.405610e-02</td>\n    </tr>\n    <tr>\n      <th>45</th>\n      <td>1.421085e-14</td>\n      <td>7.375000</td>\n      <td>5.250240e-14</td>\n      <td>1.405610e-02</td>\n    </tr>\n    <tr>\n      <th>46</th>\n      <td>7.105427e-15</td>\n      <td>7.375000</td>\n      <td>2.625120e-14</td>\n      <td>1.405610e-02</td>\n    </tr>\n    <tr>\n      <th>47</th>\n      <td>3.552714e-15</td>\n      <td>7.250000</td>\n      <td>1.312560e-14</td>\n      <td>1.390561e-01</td>\n    </tr>\n    <tr>\n      <th>48</th>\n      <td>1.776357e-15</td>\n      <td>7.500000</td>\n      <td>6.562800e-15</td>\n      <td>1.109439e-01</td>\n    </tr>\n    <tr>\n      <th>49</th>\n      <td>8.881784e-16</td>\n      <td>7.000000</td>\n      <td>3.281400e-15</td>\n      <td>3.890561e-01</td>\n    </tr>\n    <tr>\n      <th>50</th>\n      <td>4.440892e-16</td>\n      <td>6.000000</td>\n      <td>1.640700e-15</td>\n      <td>1.389056e+00</td>\n    </tr>\n    <tr>\n      <th>51</th>\n      <td>2.220446e-16</td>\n      <td>0.000000</td>\n      <td>8.203500e-16</td>\n      <td>7.389056e+00</td>\n    </tr>\n  </tbody>\n</table>\n</div>"
     },
     "metadata": {},
     "execution_count": 4
    }
   ],
   "source": [
    "def der_formula1(f, x0, h):\n",
    "    return (f(x0+h) - f(x0)) / h\n",
    "\n",
    "def Rh(F2, x0, h):\n",
    "    x = np.linspace(x0, x0+h)\n",
    "    y = abs(F2(x) * h / 2)\n",
    "    return max(y)\n",
    "\n",
    "f = np.exp\n",
    "F2 = np.exp\n",
    "MAX_ITER = 500\n",
    "\n",
    "h = [1/2]\n",
    "x0 = 2\n",
    "theor_err = []\n",
    "exper_err = []\n",
    "df = []\n",
    "for i in range(MAX_ITER):\n",
    "    theor_err.append(Rh(F2, x0, h[-1]))\n",
    "    df.append(der_formula1(f, x0, h[-1]))\n",
    "    exper_err.append(abs(df[-1]-f(x0)))\n",
    "    if df[-1] == 0:\n",
    "        break\n",
    "    h.append(h[-1]/2)\n",
    "\n",
    "h = np.array(h)\n",
    "theor_err = np.array(theor_err)\n",
    "exper_err = np.array(exper_err)\n",
    "df = np.array(df)\n",
    "\n",
    "columns = {\n",
    "    \"h\": h,\n",
    "    \"df\": df,\n",
    "    \"theor_err\": theor_err,\n",
    "    \"exper_err\": exper_err\n",
    "}\n",
    "dframe = pd.DataFrame(columns, columns=columns.keys())\n",
    "dframe\n"
   ]
  },
  {
   "source": [
    "При малых $h$ (порядка $10^{-16}$) ЭВМ считает $x + h = x$. Следовательно, численная производная в таких случаях будет равна $0$. В таком случае погрешность будет максимальной и будет равна $y'(x_0)$. До тех пор, пока это не произойдёт погрешность действительно будет монотонно убывать."
   ],
   "cell_type": "markdown",
   "metadata": {}
  }
 ]
}